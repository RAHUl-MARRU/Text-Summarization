{
 "cells": [
  {
   "cell_type": "code",
   "execution_count": 1,
   "id": "457cb026",
   "metadata": {},
   "outputs": [],
   "source": [
    "from nltk.cluster.util import cosine_distance\n",
    "from nltk.corpus import stopwords\n",
    "from nltk.tokenize import word_tokenize, sent_tokenize\n",
    "import numpy as np\n",
    "import networkx as nx\n",
    "import re\n",
    "from rouge import Rouge"
   ]
  },
  {
   "cell_type": "code",
   "execution_count": 2,
   "id": "b66b64e6",
   "metadata": {},
   "outputs": [
    {
     "name": "stdout",
     "output_type": "stream",
     "text": [
      "Requirement already satisfied: rouge in c:\\users\\rahul\\anaconda3\\lib\\site-packages (1.0.1)\n",
      "Requirement already satisfied: six in c:\\users\\rahul\\anaconda3\\lib\\site-packages (from rouge) (1.16.0)\n",
      "Note: you may need to restart the kernel to use updated packages.\n"
     ]
    }
   ],
   "source": [
    "pip install rouge"
   ]
  },
  {
   "cell_type": "code",
   "execution_count": 3,
   "id": "76dc8ca3",
   "metadata": {},
   "outputs": [],
   "source": [
    "from rouge import Rouge"
   ]
  },
  {
   "cell_type": "code",
   "execution_count": 4,
   "id": "17c5df93",
   "metadata": {},
   "outputs": [],
   "source": [
    "def sentence_similarity(sent1, sent2, stopwords=None):    \n",
    "     if stopwords is None:        \n",
    "       stopwords = []     \n",
    "     sent1 = [w.lower() for w in sent1]    \n",
    "     sent2 = [w.lower() for w in sent2]     \n",
    "     all_words = list(set(sent1 + sent2))    \n",
    "     vector1 = [0] * len(all_words)    \n",
    "     vector2 = [0] * len(all_words)        \n",
    "     for w in sent1:\n",
    "         if w in stopwords:\n",
    "             continue\n",
    "         vector1[all_words.index(w)] += 1\n",
    "     for w in sent2:\n",
    "         if w in stopwords:\n",
    "             continue        \n",
    "         vector2[all_words.index(w)] += 1     \n",
    "     return 1 - cosine_distance(vector1, vector2)"
   ]
  },
  {
   "cell_type": "code",
   "execution_count": 5,
   "id": "18306c1a",
   "metadata": {},
   "outputs": [],
   "source": [
    "def build_similarity_matrix(sentences, stop_words):\n",
    "    # Create an empty similarity matrix\n",
    "    similarity_matrix = np.zeros((len(sentences), len(sentences)))\n",
    "    for idx1 in range(len(sentences)):\n",
    "        for idx2 in range(len(sentences)):\n",
    "            if idx1 == idx2: #ignore if both are same sentences\n",
    "                continue\n",
    "            similarity_matrix[idx1][idx2] = sentence_similarity(sentences[idx1], sentences[idx2], stop_words)\n",
    "    return similarity_matrix"
   ]
  },
  {
   "cell_type": "code",
   "execution_count": 6,
   "id": "86d34c42",
   "metadata": {},
   "outputs": [],
   "source": [
    "def nltk_summarizer(raw_text):\n",
    "    raw_text=  re.sub(r'[^a-zA-z0-9.,!?/:;\\\"\\'\\s]', '', raw_text)\n",
    "    stop_words = stopwords.words('english')\n",
    "    summarize_text = []\n",
    "    # Step 1 - Read text and tokenize\n",
    "    sentences = sent_tokenize(raw_text)\n",
    "    # Step 2 - Generate Similary Martix across sentences\n",
    "    sentence_similarity_martix = build_similarity_matrix(sentences, stop_words)\n",
    "    # Step 3 - Rank sentences in similarity martix\n",
    "    sentence_similarity_graph = nx.from_numpy_array(sentence_similarity_martix)\n",
    "    scores = nx.pagerank(sentence_similarity_graph)\n",
    "    # Step 4 - Sort the rank and pick top sentences\n",
    "    ranked_sentence = sorted(((scores[i],s) for i,s in enumerate(sentences)), reverse=True)    \n",
    "    print(\"Indexes of top ranked_sentence order are \", ranked_sentence)\n",
    "    print(len(raw_text))\n",
    "    top_n=3\n",
    "    for i in range(top_n):\n",
    "        summarize_text.append(\"\".join(ranked_sentence[i][1]))\n",
    "    # Step 5 -output the summarize text\n",
    "    a=(\" \".join(summarize_text))\n",
    "    print(len(a))\n",
    "    x=Rouge()\n",
    "    y=x.get_scores(a,raw_text)\n",
    "    print(y)\n",
    "    return a"
   ]
  },
  {
   "cell_type": "code",
   "execution_count": 7,
   "id": "901fb1f3",
   "metadata": {},
   "outputs": [
    {
     "data": {
      "text/plain": [
       "''"
      ]
     },
     "execution_count": 7,
     "metadata": {},
     "output_type": "execute_result"
    }
   ],
   "source": [
    "import tkinter as tk\n",
    "from tkinter import *\n",
    "from tkinter import ttk\n",
    "from tkinter.scrolledtext import *\n",
    "import tkinter.filedialog\n",
    "import time\n",
    "timeStr=time.strftime(\"%Y%m%d-%H%M%S\")\n",
    "from nltk_summarization import nltk_summarizer\n",
    "from bs4 import BeautifulSoup\n",
    "from urllib.request import urlopen\n",
    "window=Tk()\n",
    "window.title(\"Text Summary\")\n",
    "window.geometry('760x510')"
   ]
  },
  {
   "cell_type": "code",
   "execution_count": 8,
   "id": "621eaafe",
   "metadata": {},
   "outputs": [],
   "source": [
    "#Style\n",
    "style=ttk.Style(window)\n",
    "style.configure('lefttab.TNotebook',tabposition='wn')\n",
    "#Tab Layout\n",
    "tab_control=ttk.Notebook(window,style='lefttab.TNotebook')\n",
    "tab1=ttk.Frame(tab_control)\n",
    "tab2=ttk.Frame(tab_control)\n",
    "# tab3=ttk.Frame(tab_control)\n",
    "#Add tab\n",
    "tab_control.add(tab1,text=f' {\"Text\":^20s}')\n",
    "tab_control.add(tab2,text=f' {\"File\":^20s}')\n",
    "# tab_control.add(tab3,text=f' {\"URL\":^20s}')\n",
    "# Labels\n",
    "label1=Label(tab1,text='Summarizer',padx=5,pady=5)\n",
    "label1.grid(column=0,row=0)\n",
    "label2=Label(tab2,text='File Processing',padx=5,pady=5)\n",
    "label2.grid(column=0,row=0)\n",
    "# label3=Label(tab3,text='URL',padx=5,pady=5)\n",
    "# label3.grid(column=0,row=0)\n",
    "tab_control.pack(expand=1,fill='both')"
   ]
  },
  {
   "cell_type": "code",
   "execution_count": 9,
   "id": "30d3993f",
   "metadata": {},
   "outputs": [],
   "source": [
    "#Functions\n",
    "def get_summary():\n",
    "    raw_text=entry.get('1.0',tk.END)\n",
    "    final_text=nltk_summarizer(raw_text)\n",
    "    print(final_text)\n",
    "    result='\\nSummary: {}'.format(final_text)\n",
    "    tab1_display.insert(tk.END,result)"
   ]
  },
  {
   "cell_type": "code",
   "execution_count": 10,
   "id": "8001283d",
   "metadata": {},
   "outputs": [],
   "source": [
    "def save_summary():\n",
    "    raw_text=entry.get('1.0',tk.END)\n",
    "    final_text=nltk_summarizer(raw_text)\n",
    "    file_name='your_summary' + timeStr + '.txt'\n",
    "    with open(file_name,'w') as f:\n",
    "        f.write(final_text)\n",
    "    result='\\nName of File: {} ,\\nSummary: {}'.format(file_name,final_text)\n",
    "    tab1_display.insert(tk.END,result)"
   ]
  },
  {
   "cell_type": "code",
   "execution_count": 11,
   "id": "201224aa",
   "metadata": {},
   "outputs": [],
   "source": [
    "#Clear Function\n",
    "def clear_text():\n",
    "    entry.delete('1.0',END)\n",
    "def clear_display_result():\n",
    "    tab1_display.delete('1.0',END)\n",
    "def clear_text_file():\n",
    "    displayed_file.delete('1.0',END)\n",
    "def clear_text_result():\n",
    "    tab2_display_text.delete('1.0',END)\n",
    "def clear_url_entry():\n",
    "    url_entry.delete(0,END)\n",
    "def clear_url_display():\n",
    "    tab3_display_text.delete('1.0',END)"
   ]
  },
  {
   "cell_type": "code",
   "execution_count": 12,
   "id": "21bab0ef",
   "metadata": {},
   "outputs": [],
   "source": [
    "#Open File Functions\n",
    "def openfiles():\n",
    "    file1=tkinter.filedialog.askopenfilename(filetype=(('Text Files',\".txt\"),(\"All files\",\"*\")))\n",
    "    if(file1.lower().endswith(('.png',',jpeg','jpg','mp3'))):\n",
    "       print(\"File Not containing text\")\n",
    "    else:\n",
    "        read_text=open(file1).read()\n",
    "        displayed_file.insert(tk.END,read_text)\n",
    "def get_file_summary():\n",
    "    raw_text=displayed_file.get('1.0',tk.END)\n",
    "    final_text=nltk_summarizer(raw_text)\n",
    "    result='\\nSummary: {}'.format(final_text)\n",
    "    tab2_display_text.insert(tk.END,result)"
   ]
  },
  {
   "cell_type": "code",
   "execution_count": 13,
   "id": "72eac9be",
   "metadata": {},
   "outputs": [],
   "source": [
    "#URL Functions\n",
    "#Fetch Text from Url\n",
    "def get_text():\n",
    "    raw_text=str(url_entry.get())\n",
    "    page=urlopen(raw_text)\n",
    "    soup=BeautifulSoup(page,'lxml')\n",
    "    fetched_text=' '.join(map(lambda p:p.text,soup.find_all('p')))\n",
    "    url_display.insert(tk.END,fetched_text)\n",
    "# def get_url_summary():\n",
    "    raw_text=url_display.get('1.0',tk.END)\n",
    "    final_text=nltk_summarizer(raw_text)\n",
    "    result='\\nSummary: {}'.format(final_text)\n",
    "    tab3_display_text.insert(tk.END,result)"
   ]
  },
  {
   "cell_type": "code",
   "execution_count": null,
   "id": "e3682d6b",
   "metadata": {},
   "outputs": [
    {
     "name": "stdout",
     "output_type": "stream",
     "text": [
      "Indexes of top ranked_sentence order are  [(0.0574540998573151, 'India also won ICC Test Championship Mace two times in 2010 and 2011 under his leadership.'), (0.057003757857916934, 'Mahendra Singh Dhoni born 7 July 1981 is an Indian professional cricketer who was captain of the Indian national cricket team in limitedovers formats from 2007 to 2017 and in Test cricket from 2008 to 2014.'), (0.05699394665344888, 'In test cricket his captaincy record was mixed, successfully leading India to a series win against New Zealand in 2009 and the BorderGavaskar Trophy home series in 2010 and 2013 against Australia while losing to Sri Lanka, Australia, England, and South Africa by big margins in away conditions.'), (0.056962156463815056, 'Also under his captaincy Chennai Super Kings CSK Won Champions League T20 two times, in 2010 and 2014.'), (0.05691701627416741, 'Dhoni made his ODI debut on 23 December 2004 against Bangladesh in Chittagong, and played his first Test a year later against Sri Lanka.'), (0.05651341369576651, 'He is the captain of Chennai Super Kings CSK in the Indian Premier League.'), (0.05641740577143485, 'He led the team to three ICC trophies including the 2007 ICC World Twenty20, 2011 ICC Cricket World Cup and 2013 ICC Champions Trophy.'), (0.055869047244318654, 'In 2007, he took over the ODI captaincy from Rahul Dravid.'), (0.05584145717640636, 'In Indian domestic cricket he played for Bihar and Jharkhand Cricket team.'), (0.055402890544960115, 'Under his captaincy, India won the Asia Cup two times, in 2010 and 2016.'), (0.055357456477484884, 'Throughout his 15 year long international career, Dhoni has won several awards and accolades.'), (0.05513552105780947, 'He played his first T20I also a year later against South Africa.'), (0.05502515903673676, 'He is considered as one of the greatest Captains and Wicket KeeperBatsmen of all time.'), (0.05486559836848884, 'In 2008 he selected as Test Captain.'), (0.05468797005577235, 'He took back the captaincy on 30 April 2022.'), (0.05410372844756489, 'He was captain when it won the 2010, 2011, 2018 and 2021 editions of IPL league.'), (0.0533485817786333, 'He vacated the captaincy on 24 March 2022.'), (0.0521007932379596, 'He is a righthanded wicketkeeper batsman.')]\n",
      "1748\n",
      "592\n",
      "[{'rouge-1': {'r': 0.46060606060606063, 'p': 1.0, 'f': 0.6307053898727639}, 'rouge-2': {'r': 0.3467153284671533, 'p': 0.979381443298969, 'f': 0.5121293761919777}, 'rouge-l': {'r': 0.46060606060606063, 'p': 1.0, 'f': 0.6307053898727639}}]\n",
      "India also won ICC Test Championship Mace two times in 2010 and 2011 under his leadership. Mahendra Singh Dhoni born 7 July 1981 is an Indian professional cricketer who was captain of the Indian national cricket team in limitedovers formats from 2007 to 2017 and in Test cricket from 2008 to 2014. In test cricket his captaincy record was mixed, successfully leading India to a series win against New Zealand in 2009 and the BorderGavaskar Trophy home series in 2010 and 2013 against Australia while losing to Sri Lanka, Australia, England, and South Africa by big margins in away conditions.\n"
     ]
    },
    {
     "name": "stderr",
     "output_type": "stream",
     "text": [
      "Exception in Tkinter callback\n",
      "Traceback (most recent call last):\n",
      "  File \"C:\\Users\\rahul\\anaconda3\\lib\\tkinter\\__init__.py\", line 1892, in __call__\n",
      "    return self.func(*args)\n",
      "  File \"C:\\Users\\rahul\\AppData\\Local\\Temp/ipykernel_21652/2071038337.py\", line 7, in openfiles\n",
      "    read_text=open(file1).read()\n",
      "FileNotFoundError: [Errno 2] No such file or directory: ''\n"
     ]
    },
    {
     "name": "stdout",
     "output_type": "stream",
     "text": [
      "Indexes of top ranked_sentence order are  [(0.03658150975588186, 'Dhoni made his ODI debut on 23 December 2004 against Bangladesh in Chittagong, and played his first Test a year later against Sri Lanka.'), (0.036565076345233254, 'India also won ICC Test Championship Mace two times in 2010 and 2011 under his leadership.'), (0.03655874247494322, 'In test cricket his captaincy record was mixed, successfully leading India to a series win against New Zealand in 2009 and the BorderGavaskar Trophy home series in 2010 and 2013 against Australia while losing to Sri Lanka, Australia, England, and South Africa by big margins in away conditions.'), (0.03650926793132888, 'Dhoni made it to the East Zone U19 squad for the CK Nayudu trophy in the 19992000 season but scored only 97 runs in four matches, as East Zone lost all four matches and finished last in the tournament.'), (0.03648160522380694, 'In 1998, Dhoni was selected by Deval Sahay, a former Bihar Cricket Association Vice President and Ranchi District Cricket President, to play for the Central Coal Fields Limited CCL team Till 1998 Dhoni, who was in 12th grade, had never played professional cricket.'), (0.03648100212810804, 'Mahendra Singh Dhoni born 7 July 1981 is an Indian professional cricketer who was captain of the Indian national cricket team in limitedovers formats from 2007 to 2017 and in Test cricket from 2008 to 2014.'), (0.03640378536296794, 'He is the captain of Chennai Super Kings CSK in the Indian Premier League.'), (0.03636006330115634, 'Dhoni moved to the Ranchi team, the junior Bihar cricket team and eventually the senior Bihar Ranji Team within one year.'), (0.03631554724877102, \"In the 19992000 Cooch Behar Trophy, the Bihar U19 cricket team made it to the finals, where Dhoni's 84 helped Bihar post a total of 357 Nevertheless, Bihar's efforts were thwarted by Punjab's 839 with Dhoni's future teammate Yuvraj Singh making 358.\"), (0.03613214619290094, 'At CCL, he got an opportunity to bat higher up the order, where he performed exceptionally, which had helped CCL move to the A division.'), (0.036128872742680805, 'In the 199899 Cooch Behar Trophy, Dhoni played for the U19 Bihar team and scored 176 runs in 5 matches 7 innings.'), (0.036120935747723605, 'Also under his captaincy Chennai Super Kings CSK Won Champions League T20 two times, in 2010 and 2014.'), (0.036000274775163266, 'In 2007, he took over the ODI captaincy from Rahul Dravid.'), (0.03596631121059766, 'In Indian domestic cricket he played for Bihar and Jharkhand Cricket team.'), (0.03590317720754245, 'However, Bihar finished fourth in the group of six and did not make it to the quarterfinals.'), (0.03587288463992669, 'Throughout his 15 year long international career, Dhoni has won several awards and accolades.'), (0.03586262911733048, 'Dhoni was not picked for the East Zone U19 squad CK Nayudu Trophy or Rest of India squad MA Chidambaram Trophy and Vinoo Mankad Trophy.'), (0.035825269651265465, 'He led the team to three ICC trophies including the 2007 ICC World Twenty20, 2011 ICC Cricket World Cup and 2013 ICC Champions Trophy.'), (0.03577035246154128, 'Deval Sahay, impressed by his performance, pushed for his selection in the Bihar team.'), (0.035665983101691306, 'He played his first T20I also a year later against South Africa.'), (0.03539246922509021, 'He is considered as one of the greatest Captains and Wicket KeeperBatsmen of all time.'), (0.035252093621601074, 'Under his captaincy, India won the Asia Cup two times, in 2010 and 2016.'), (0.035058438600841055, \"Dhoni's contribution in the tournament included 488 runs 9 matches, 12 innings, 5 fifties, 17 catches and 7 stumpings.\"), (0.034716555413183255, 'In 2008 he selected as Test Captain.'), (0.034455169012046455, 'He took back the captaincy on 30 April 2022.'), (0.03423267041364588, 'He was captain when it won the 2010, 2011, 2018 and 2021 editions of IPL league.'), (0.03369779558005598, 'He vacated the captaincy on 24 March 2022.'), (0.03368937151297458, 'He is a righthanded wicketkeeper batsman.')]\n",
      "3277\n",
      "522\n",
      "[{'rouge-1': {'r': 0.2326388888888889, 'p': 1.0, 'f': 0.37746478567014485}, 'rouge-2': {'r': 0.16468253968253968, 'p': 0.9764705882352941, 'f': 0.281833613829085}, 'rouge-l': {'r': 0.2326388888888889, 'p': 1.0, 'f': 0.37746478567014485}}]\n"
     ]
    }
   ],
   "source": [
    "#Main Home Tab\n",
    "l1=Label(tab1,text='Enter Text to Summarize',padx=5,pady=5)\n",
    "l1.grid(column=0,row=1)\n",
    "entry=ScrolledText(tab1,height=10)\n",
    "entry.grid(row=2,column=0,columnspan=2,padx=5,pady=5)\n",
    "#Buttons\n",
    "button1=Button(tab1,text=\"Reset\",command=clear_text,width=12,bg='#01579B',fg='#fff')\n",
    "button1.grid(row=4,column=0,pady=10,padx=10)\n",
    "button2=Button(tab1,text=\"Summarize\",command=get_summary,width=12,bg='#000000',fg='#fff')\n",
    "button2.grid(row=4,column=1,pady=10,padx=10)\n",
    "button3=Button(tab1,text=\"Clear Result\",command=clear_display_result,width=12,bg='#FFEB3B')\n",
    "button3.grid(row=5,column=0,pady=10,padx=10)\n",
    "button4=Button(tab1,text=\"Save\",command=save_summary,width=12,bg='#CD201F',fg='#fff')\n",
    "button4.grid(row=5,column=1,pady=10,padx=10)\n",
    "#Display Screen for Result\n",
    "tab1_display=ScrolledText(tab1,height=10)\n",
    "tab1_display.grid(row=7,column=0,columnspan=3,padx=5,pady=5)\n",
    "#File Processing Tab\n",
    "l1=Label(tab2,text=\"Open File To Summarize\")\n",
    "l1.grid(row=1,column=1)\n",
    "displayed_file=ScrolledText(tab2,height=7)\n",
    "displayed_file.grid(row=2,column=0,columnspan=3,padx=5,pady=3)\n",
    "#BUTTONS FOR SECOND TAB\n",
    "b0=Button(tab2,text=\"Open File\",width=12,command=openfiles,bg='#C51162',fg='#fff')\n",
    "b0.grid(row=3,column=0,padx=10,pady=10)\n",
    "b1=Button(tab2,text=\"Reset\",width=12,command=clear_text_file,bg='#01579B',fg='#fff')\n",
    "b1.grid(row=3,column=1,padx=10,pady=10)\n",
    "b2=Button(tab2,text=\"Summarize\",width=12,command=get_file_summary,bg='#000000',fg='#fff')\n",
    "b2.grid(row=3,column=2,padx=10,pady=10)\n",
    "b3=Button(tab2,text=\"Clear Result\",width=12,command=clear_text_result,bg='#FFEB3B')\n",
    "b3.grid(row=5,column=1,padx=10,pady=10)\n",
    "b4=Button(tab2,text=\"Close\",width=12,command=window.destroy)\n",
    "b4.grid(row=5,column=2,padx=10,pady=10)\n",
    "#Display screen tab2\n",
    "tab2_display_text=ScrolledText(tab2,height=10)\n",
    "tab2_display_text.grid(row=7,column=0,columnspan=3,padx=5,pady=5)\n",
    "tab2_display_text.config(state=NORMAL)\n",
    "#URL tab\n",
    "# l1=Label(tab3,text=\"Enter URL to Summarize\")\n",
    "# l1.grid(row=1,column=0)\n",
    "# raw_entry=StringVar()\n",
    "# url_entry=Entry(tab3,textvariable=raw_entry,width=50)\n",
    "# url_entry.grid(row=1,column=1)\n",
    "#Buttons\n",
    "#button1=Button(tab3,text=\"Reset\",command=clear_url_entry,width=12,bg='#01579B',fg='#fff')\n",
    "#button1.grid(row=4,column=0,padx=10,pady=10)\n",
    "#button2=Button(tab3,text=\"Get Text\",command=get_text,width=12,bg='#C51162',fg='#fff')\n",
    "#button2.grid(row=4,column=1,padx=10,pady=10)\n",
    "#button3=Button(tab3,text=\"Clear Result\",command=clear_url_display,width=12,bg='#FFEB3B')\n",
    "#button3.grid(row=5,column=0,padx=10,pady=10)\n",
    "#button4=Button(tab3,text=\"Summarize\",command=get_url_summary,width=12,bg='#000000',fg='#fff')\n",
    "button4.grid(row=5,column=1,padx=10,pady=10)\n",
    "#Display Screen For Result\n",
    "# url_display=ScrolledText(tab3,height=10)\n",
    "# url_display.grid(row=7,column=0,columnspan=3,padx=5,pady=5)\n",
    "# tab3_display_text=ScrolledText(tab3,height=10)\n",
    "# tab3_display_text.grid(row=10,column=0,columnspan=3,padx=5,pady=5)\n",
    "window.mainloop()\n"
   ]
  },
  {
   "cell_type": "code",
   "execution_count": null,
   "id": "771fd5af",
   "metadata": {},
   "outputs": [],
   "source": []
  },
  {
   "cell_type": "code",
   "execution_count": null,
   "id": "ec46c7e5",
   "metadata": {},
   "outputs": [],
   "source": []
  }
 ],
 "metadata": {
  "kernelspec": {
   "display_name": "Python 3 (ipykernel)",
   "language": "python",
   "name": "python3"
  },
  "language_info": {
   "codemirror_mode": {
    "name": "ipython",
    "version": 3
   },
   "file_extension": ".py",
   "mimetype": "text/x-python",
   "name": "python",
   "nbconvert_exporter": "python",
   "pygments_lexer": "ipython3",
   "version": "3.9.12"
  }
 },
 "nbformat": 4,
 "nbformat_minor": 5
}
